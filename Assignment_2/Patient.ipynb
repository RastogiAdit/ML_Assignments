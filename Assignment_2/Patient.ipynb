{
 "cells": [
  {
   "cell_type": "markdown",
   "id": "cd8f5b03",
   "metadata": {},
   "source": [
    "# BITS F464 : Machine Learning Assignment 2"
   ]
  },
  {
   "cell_type": "markdown",
   "id": "c5d52a1f",
   "metadata": {},
   "source": [
    "Adit Rastogi <br>\n",
    "2022A7PS1330H <br><br>\n",
    "Deeptansh Gupta <br>\n",
    "2022A7PS1336H <br><br>\n",
    "Anirban Nayak <br>\n",
    "2022A3PS0705H <br>"
   ]
  },
  {
   "cell_type": "code",
   "execution_count": 1,
   "id": "40cefc25",
   "metadata": {},
   "outputs": [
    {
     "name": "stdout",
     "output_type": "stream",
     "text": [
      "Requirement already satisfied: Pyppeteer in /Users/adit/anaconda3/lib/python3.10/site-packages (2.0.0)\n",
      "Requirement already satisfied: certifi>=2023 in /Users/adit/anaconda3/lib/python3.10/site-packages (from Pyppeteer) (2023.5.7)\n",
      "Requirement already satisfied: importlib-metadata>=1.4 in /Users/adit/anaconda3/lib/python3.10/site-packages (from Pyppeteer) (4.11.3)\n",
      "Requirement already satisfied: urllib3<2.0.0,>=1.25.8 in /Users/adit/anaconda3/lib/python3.10/site-packages (from Pyppeteer) (1.26.14)\n",
      "Requirement already satisfied: appdirs<2.0.0,>=1.4.3 in /Users/adit/anaconda3/lib/python3.10/site-packages (from Pyppeteer) (1.4.4)\n",
      "Requirement already satisfied: websockets<11.0,>=10.0 in /Users/adit/anaconda3/lib/python3.10/site-packages (from Pyppeteer) (10.4)\n",
      "Requirement already satisfied: tqdm<5.0.0,>=4.42.1 in /Users/adit/anaconda3/lib/python3.10/site-packages (from Pyppeteer) (4.64.1)\n",
      "Requirement already satisfied: pyee<12.0.0,>=11.0.0 in /Users/adit/anaconda3/lib/python3.10/site-packages (from Pyppeteer) (11.1.0)\n",
      "Requirement already satisfied: zipp>=0.5 in /Users/adit/anaconda3/lib/python3.10/site-packages (from importlib-metadata>=1.4->Pyppeteer) (3.11.0)\n",
      "Requirement already satisfied: typing-extensions in /Users/adit/anaconda3/lib/python3.10/site-packages (from pyee<12.0.0,>=11.0.0->Pyppeteer) (4.4.0)\n",
      "chromium is already installed.\n"
     ]
    }
   ],
   "source": [
    "import pandas as pd\n",
    "import numpy as np\n",
    "import matplotlib.pyplot as plt\n",
    "import seaborn as sns\n",
    "from sklearn.preprocessing import LabelEncoder\n",
    "\n",
    "#html export\n",
    "import plotly.io as pio\n",
    "pio.renderers.default = 'notebook'\n",
    "\n",
    "#pdf export\n",
    "!pip install Pyppeteer\n",
    "!pyppeteer-install"
   ]
  },
  {
   "cell_type": "code",
   "execution_count": 2,
   "id": "2e70be58",
   "metadata": {},
   "outputs": [],
   "source": [
    "#please fill the dataset path as required\n",
    "data_p1 = pd.read_csv(\"./MIMIC/221.csv\")\n",
    "data_p2 = pd.read_csv(\"./MIMIC/230.csv\")"
   ]
  },
  {
   "cell_type": "markdown",
   "id": "d09b7eff",
   "metadata": {},
   "source": [
    "## Data Pre-processing"
   ]
  },
  {
   "cell_type": "code",
   "execution_count": 7,
   "id": "c3d34f65",
   "metadata": {},
   "outputs": [
    {
     "name": "stdout",
     "output_type": "stream",
     "text": [
      "(24999, 7)\n"
     ]
    },
    {
     "data": {
      "text/html": [
       "<div>\n",
       "<style scoped>\n",
       "    .dataframe tbody tr th:only-of-type {\n",
       "        vertical-align: middle;\n",
       "    }\n",
       "\n",
       "    .dataframe tbody tr th {\n",
       "        vertical-align: top;\n",
       "    }\n",
       "\n",
       "    .dataframe thead th {\n",
       "        text-align: right;\n",
       "    }\n",
       "</style>\n",
       "<table border=\"1\" class=\"dataframe\">\n",
       "  <thead>\n",
       "    <tr style=\"text-align: right;\">\n",
       "      <th></th>\n",
       "      <th>RESP</th>\n",
       "      <th>BP-S</th>\n",
       "      <th>BP-D</th>\n",
       "      <th>SpO2</th>\n",
       "      <th>HR</th>\n",
       "      <th>PULSE</th>\n",
       "      <th>Anomaly</th>\n",
       "    </tr>\n",
       "  </thead>\n",
       "  <tbody>\n",
       "    <tr>\n",
       "      <th>0</th>\n",
       "      <td>28</td>\n",
       "      <td>81</td>\n",
       "      <td>120</td>\n",
       "      <td>98</td>\n",
       "      <td>74</td>\n",
       "      <td>73</td>\n",
       "      <td>0</td>\n",
       "    </tr>\n",
       "    <tr>\n",
       "      <th>1</th>\n",
       "      <td>29</td>\n",
       "      <td>81</td>\n",
       "      <td>120</td>\n",
       "      <td>98</td>\n",
       "      <td>74</td>\n",
       "      <td>73</td>\n",
       "      <td>0</td>\n",
       "    </tr>\n",
       "    <tr>\n",
       "      <th>2</th>\n",
       "      <td>30</td>\n",
       "      <td>81</td>\n",
       "      <td>120</td>\n",
       "      <td>98</td>\n",
       "      <td>74</td>\n",
       "      <td>73</td>\n",
       "      <td>0</td>\n",
       "    </tr>\n",
       "    <tr>\n",
       "      <th>3</th>\n",
       "      <td>30</td>\n",
       "      <td>81</td>\n",
       "      <td>120</td>\n",
       "      <td>99</td>\n",
       "      <td>74</td>\n",
       "      <td>73</td>\n",
       "      <td>0</td>\n",
       "    </tr>\n",
       "    <tr>\n",
       "      <th>4</th>\n",
       "      <td>29</td>\n",
       "      <td>81</td>\n",
       "      <td>120</td>\n",
       "      <td>99</td>\n",
       "      <td>73</td>\n",
       "      <td>73</td>\n",
       "      <td>0</td>\n",
       "    </tr>\n",
       "  </tbody>\n",
       "</table>\n",
       "</div>"
      ],
      "text/plain": [
       "   RESP  BP-S  BP-D  SpO2  HR  PULSE  Anomaly\n",
       "0    28    81   120    98  74     73        0\n",
       "1    29    81   120    98  74     73        0\n",
       "2    30    81   120    98  74     73        0\n",
       "3    30    81   120    99  74     73        0\n",
       "4    29    81   120    99  73     73        0"
      ]
     },
     "execution_count": 7,
     "metadata": {},
     "output_type": "execute_result"
    }
   ],
   "source": [
    "print(data_p1.shape)\n",
    "data_p1.head()"
   ]
  },
  {
   "cell_type": "code",
   "execution_count": 8,
   "id": "e4d64180",
   "metadata": {},
   "outputs": [
    {
     "name": "stdout",
     "output_type": "stream",
     "text": [
      "(25000, 7)\n"
     ]
    },
    {
     "data": {
      "text/html": [
       "<div>\n",
       "<style scoped>\n",
       "    .dataframe tbody tr th:only-of-type {\n",
       "        vertical-align: middle;\n",
       "    }\n",
       "\n",
       "    .dataframe tbody tr th {\n",
       "        vertical-align: top;\n",
       "    }\n",
       "\n",
       "    .dataframe thead th {\n",
       "        text-align: right;\n",
       "    }\n",
       "</style>\n",
       "<table border=\"1\" class=\"dataframe\">\n",
       "  <thead>\n",
       "    <tr style=\"text-align: right;\">\n",
       "      <th></th>\n",
       "      <th>RESP</th>\n",
       "      <th>BP-S</th>\n",
       "      <th>BP-D</th>\n",
       "      <th>SpO2</th>\n",
       "      <th>HR</th>\n",
       "      <th>PULSE</th>\n",
       "      <th>Anomaly</th>\n",
       "    </tr>\n",
       "  </thead>\n",
       "  <tbody>\n",
       "    <tr>\n",
       "      <th>0</th>\n",
       "      <td>15</td>\n",
       "      <td>54</td>\n",
       "      <td>73</td>\n",
       "      <td>97</td>\n",
       "      <td>72</td>\n",
       "      <td>71</td>\n",
       "      <td>0</td>\n",
       "    </tr>\n",
       "    <tr>\n",
       "      <th>1</th>\n",
       "      <td>15</td>\n",
       "      <td>54</td>\n",
       "      <td>73</td>\n",
       "      <td>97</td>\n",
       "      <td>72</td>\n",
       "      <td>71</td>\n",
       "      <td>0</td>\n",
       "    </tr>\n",
       "    <tr>\n",
       "      <th>2</th>\n",
       "      <td>15</td>\n",
       "      <td>54</td>\n",
       "      <td>73</td>\n",
       "      <td>97</td>\n",
       "      <td>72</td>\n",
       "      <td>71</td>\n",
       "      <td>0</td>\n",
       "    </tr>\n",
       "    <tr>\n",
       "      <th>3</th>\n",
       "      <td>15</td>\n",
       "      <td>54</td>\n",
       "      <td>73</td>\n",
       "      <td>97</td>\n",
       "      <td>72</td>\n",
       "      <td>71</td>\n",
       "      <td>0</td>\n",
       "    </tr>\n",
       "    <tr>\n",
       "      <th>4</th>\n",
       "      <td>15</td>\n",
       "      <td>55</td>\n",
       "      <td>74</td>\n",
       "      <td>97</td>\n",
       "      <td>72</td>\n",
       "      <td>71</td>\n",
       "      <td>0</td>\n",
       "    </tr>\n",
       "  </tbody>\n",
       "</table>\n",
       "</div>"
      ],
      "text/plain": [
       "   RESP  BP-S  BP-D  SpO2  HR  PULSE  Anomaly\n",
       "0    15    54    73    97  72     71        0\n",
       "1    15    54    73    97  72     71        0\n",
       "2    15    54    73    97  72     71        0\n",
       "3    15    54    73    97  72     71        0\n",
       "4    15    55    74    97  72     71        0"
      ]
     },
     "execution_count": 8,
     "metadata": {},
     "output_type": "execute_result"
    }
   ],
   "source": [
    "print(data_p2.shape)\n",
    "data_p2.head()"
   ]
  },
  {
   "cell_type": "code",
   "execution_count": null,
   "id": "97c1d581",
   "metadata": {},
   "outputs": [],
   "source": []
  }
 ],
 "metadata": {
  "kernelspec": {
   "display_name": "Python 3 (ipykernel)",
   "language": "python",
   "name": "python3"
  },
  "language_info": {
   "codemirror_mode": {
    "name": "ipython",
    "version": 3
   },
   "file_extension": ".py",
   "mimetype": "text/x-python",
   "name": "python",
   "nbconvert_exporter": "python",
   "pygments_lexer": "ipython3",
   "version": "3.10.9"
  }
 },
 "nbformat": 4,
 "nbformat_minor": 5
}
