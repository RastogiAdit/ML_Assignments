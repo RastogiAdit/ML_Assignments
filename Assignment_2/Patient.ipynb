{
 "cells": [
  {
   "cell_type": "markdown",
   "id": "32999c60",
   "metadata": {},
   "source": [
    "# BITS F464 : Machine Learning Assignment 2"
   ]
  },
  {
   "cell_type": "markdown",
   "id": "a4907e0a",
   "metadata": {},
   "source": [
    "Adit Rastogi <br>\n",
    "2022A7PS1330H <br><br>\n",
    "Deeptansh Gupta <br>\n",
    "2022A7PS1336H <br><br>\n",
    "Anirban Nayak <br>\n",
    "2022A3PS0705H <br>"
   ]
  },
  {
   "cell_type": "code",
   "execution_count": 1,
   "id": "964d8a7e",
   "metadata": {},
   "outputs": [
    {
     "name": "stdout",
     "output_type": "stream",
     "text": [
      "Requirement already satisfied: Pyppeteer in /Users/adit/anaconda3/lib/python3.10/site-packages (2.0.0)\n",
      "Requirement already satisfied: appdirs<2.0.0,>=1.4.3 in /Users/adit/anaconda3/lib/python3.10/site-packages (from Pyppeteer) (1.4.4)\n",
      "Requirement already satisfied: websockets<11.0,>=10.0 in /Users/adit/anaconda3/lib/python3.10/site-packages (from Pyppeteer) (10.4)\n",
      "Requirement already satisfied: urllib3<2.0.0,>=1.25.8 in /Users/adit/anaconda3/lib/python3.10/site-packages (from Pyppeteer) (1.26.14)\n",
      "Requirement already satisfied: importlib-metadata>=1.4 in /Users/adit/anaconda3/lib/python3.10/site-packages (from Pyppeteer) (4.11.3)\n",
      "Requirement already satisfied: pyee<12.0.0,>=11.0.0 in /Users/adit/anaconda3/lib/python3.10/site-packages (from Pyppeteer) (11.1.0)\n",
      "Requirement already satisfied: tqdm<5.0.0,>=4.42.1 in /Users/adit/anaconda3/lib/python3.10/site-packages (from Pyppeteer) (4.64.1)\n",
      "Requirement already satisfied: certifi>=2023 in /Users/adit/anaconda3/lib/python3.10/site-packages (from Pyppeteer) (2023.5.7)\n",
      "Requirement already satisfied: zipp>=0.5 in /Users/adit/anaconda3/lib/python3.10/site-packages (from importlib-metadata>=1.4->Pyppeteer) (3.11.0)\n",
      "Requirement already satisfied: typing-extensions in /Users/adit/anaconda3/lib/python3.10/site-packages (from pyee<12.0.0,>=11.0.0->Pyppeteer) (4.4.0)\n",
      "chromium is already installed.\n"
     ]
    }
   ],
   "source": [
    "import pandas as pd\n",
    "import numpy as np\n",
    "import matplotlib.pyplot as plt\n",
    "import seaborn as sns\n",
    "from sklearn.preprocessing import LabelEncoder\n",
    "\n",
    "#html export\n",
    "import plotly.io as pio\n",
    "pio.renderers.default = 'notebook'\n",
    "\n",
    "#pdf export\n",
    "!pip install Pyppeteer\n",
    "!pyppeteer-install"
   ]
  },
  {
   "cell_type": "code",
   "execution_count": 2,
   "id": "a3a52099",
   "metadata": {},
   "outputs": [],
   "source": [
    "#please fill the dataset path as required\n",
    "data_p1 = pd.read_csv(\"./MIMIC/221.csv\")\n",
    "data_p2 = pd.read_csv(\"./MIMIC/230.csv\")"
   ]
  },
  {
   "cell_type": "markdown",
   "id": "9bfb095e",
   "metadata": {},
   "source": [
    "## Data Pre-processing For Both Patients"
   ]
  },
  {
   "cell_type": "code",
   "execution_count": 3,
   "id": "44fb7af8",
   "metadata": {},
   "outputs": [
    {
     "name": "stdout",
     "output_type": "stream",
     "text": [
      "(24999, 7)\n"
     ]
    },
    {
     "data": {
      "text/html": [
       "<div>\n",
       "<style scoped>\n",
       "    .dataframe tbody tr th:only-of-type {\n",
       "        vertical-align: middle;\n",
       "    }\n",
       "\n",
       "    .dataframe tbody tr th {\n",
       "        vertical-align: top;\n",
       "    }\n",
       "\n",
       "    .dataframe thead th {\n",
       "        text-align: right;\n",
       "    }\n",
       "</style>\n",
       "<table border=\"1\" class=\"dataframe\">\n",
       "  <thead>\n",
       "    <tr style=\"text-align: right;\">\n",
       "      <th></th>\n",
       "      <th>RESP</th>\n",
       "      <th>BP-S</th>\n",
       "      <th>BP-D</th>\n",
       "      <th>SpO2</th>\n",
       "      <th>HR</th>\n",
       "      <th>PULSE</th>\n",
       "      <th>Anomaly</th>\n",
       "    </tr>\n",
       "  </thead>\n",
       "  <tbody>\n",
       "    <tr>\n",
       "      <th>0</th>\n",
       "      <td>28</td>\n",
       "      <td>81</td>\n",
       "      <td>120</td>\n",
       "      <td>98</td>\n",
       "      <td>74</td>\n",
       "      <td>73</td>\n",
       "      <td>0</td>\n",
       "    </tr>\n",
       "    <tr>\n",
       "      <th>1</th>\n",
       "      <td>29</td>\n",
       "      <td>81</td>\n",
       "      <td>120</td>\n",
       "      <td>98</td>\n",
       "      <td>74</td>\n",
       "      <td>73</td>\n",
       "      <td>0</td>\n",
       "    </tr>\n",
       "    <tr>\n",
       "      <th>2</th>\n",
       "      <td>30</td>\n",
       "      <td>81</td>\n",
       "      <td>120</td>\n",
       "      <td>98</td>\n",
       "      <td>74</td>\n",
       "      <td>73</td>\n",
       "      <td>0</td>\n",
       "    </tr>\n",
       "    <tr>\n",
       "      <th>3</th>\n",
       "      <td>30</td>\n",
       "      <td>81</td>\n",
       "      <td>120</td>\n",
       "      <td>99</td>\n",
       "      <td>74</td>\n",
       "      <td>73</td>\n",
       "      <td>0</td>\n",
       "    </tr>\n",
       "    <tr>\n",
       "      <th>4</th>\n",
       "      <td>29</td>\n",
       "      <td>81</td>\n",
       "      <td>120</td>\n",
       "      <td>99</td>\n",
       "      <td>73</td>\n",
       "      <td>73</td>\n",
       "      <td>0</td>\n",
       "    </tr>\n",
       "  </tbody>\n",
       "</table>\n",
       "</div>"
      ],
      "text/plain": [
       "   RESP  BP-S  BP-D  SpO2  HR  PULSE  Anomaly\n",
       "0    28    81   120    98  74     73        0\n",
       "1    29    81   120    98  74     73        0\n",
       "2    30    81   120    98  74     73        0\n",
       "3    30    81   120    99  74     73        0\n",
       "4    29    81   120    99  73     73        0"
      ]
     },
     "execution_count": 3,
     "metadata": {},
     "output_type": "execute_result"
    }
   ],
   "source": [
    "print(data_p1.shape)\n",
    "data_p1.head()"
   ]
  },
  {
   "cell_type": "code",
   "execution_count": 4,
   "id": "6c64a3b2-880f-4cc5-97b4-655b27cb021e",
   "metadata": {},
   "outputs": [
    {
     "name": "stdout",
     "output_type": "stream",
     "text": [
      "(25000, 7)\n"
     ]
    },
    {
     "data": {
      "text/html": [
       "<div>\n",
       "<style scoped>\n",
       "    .dataframe tbody tr th:only-of-type {\n",
       "        vertical-align: middle;\n",
       "    }\n",
       "\n",
       "    .dataframe tbody tr th {\n",
       "        vertical-align: top;\n",
       "    }\n",
       "\n",
       "    .dataframe thead th {\n",
       "        text-align: right;\n",
       "    }\n",
       "</style>\n",
       "<table border=\"1\" class=\"dataframe\">\n",
       "  <thead>\n",
       "    <tr style=\"text-align: right;\">\n",
       "      <th></th>\n",
       "      <th>RESP</th>\n",
       "      <th>BP-S</th>\n",
       "      <th>BP-D</th>\n",
       "      <th>SpO2</th>\n",
       "      <th>HR</th>\n",
       "      <th>PULSE</th>\n",
       "      <th>Anomaly</th>\n",
       "    </tr>\n",
       "  </thead>\n",
       "  <tbody>\n",
       "    <tr>\n",
       "      <th>0</th>\n",
       "      <td>15</td>\n",
       "      <td>54</td>\n",
       "      <td>73</td>\n",
       "      <td>97</td>\n",
       "      <td>72</td>\n",
       "      <td>71</td>\n",
       "      <td>0</td>\n",
       "    </tr>\n",
       "    <tr>\n",
       "      <th>1</th>\n",
       "      <td>15</td>\n",
       "      <td>54</td>\n",
       "      <td>73</td>\n",
       "      <td>97</td>\n",
       "      <td>72</td>\n",
       "      <td>71</td>\n",
       "      <td>0</td>\n",
       "    </tr>\n",
       "    <tr>\n",
       "      <th>2</th>\n",
       "      <td>15</td>\n",
       "      <td>54</td>\n",
       "      <td>73</td>\n",
       "      <td>97</td>\n",
       "      <td>72</td>\n",
       "      <td>71</td>\n",
       "      <td>0</td>\n",
       "    </tr>\n",
       "    <tr>\n",
       "      <th>3</th>\n",
       "      <td>15</td>\n",
       "      <td>54</td>\n",
       "      <td>73</td>\n",
       "      <td>97</td>\n",
       "      <td>72</td>\n",
       "      <td>71</td>\n",
       "      <td>0</td>\n",
       "    </tr>\n",
       "    <tr>\n",
       "      <th>4</th>\n",
       "      <td>15</td>\n",
       "      <td>55</td>\n",
       "      <td>74</td>\n",
       "      <td>97</td>\n",
       "      <td>72</td>\n",
       "      <td>71</td>\n",
       "      <td>0</td>\n",
       "    </tr>\n",
       "  </tbody>\n",
       "</table>\n",
       "</div>"
      ],
      "text/plain": [
       "   RESP  BP-S  BP-D  SpO2  HR  PULSE  Anomaly\n",
       "0    15    54    73    97  72     71        0\n",
       "1    15    54    73    97  72     71        0\n",
       "2    15    54    73    97  72     71        0\n",
       "3    15    54    73    97  72     71        0\n",
       "4    15    55    74    97  72     71        0"
      ]
     },
     "execution_count": 4,
     "metadata": {},
     "output_type": "execute_result"
    }
   ],
   "source": [
    "print(data_p2.shape)\n",
    "data_p2.head()"
   ]
  },
  {
   "cell_type": "code",
   "execution_count": 5,
   "id": "60a9feab",
   "metadata": {},
   "outputs": [],
   "source": [
    "df_p1 = pd.DataFrame(data_p1)\n",
    "df_p2 = pd.DataFrame(data_p2)"
   ]
  },
  {
   "cell_type": "markdown",
   "id": "612b70d3-d487-4fa7-b06f-7a5a11b8b626",
   "metadata": {},
   "source": [
    "#### Creating a Describe Function"
   ]
  },
  {
   "cell_type": "code",
   "execution_count": 6,
   "id": "1d0e77f3",
   "metadata": {},
   "outputs": [],
   "source": [
    "def describe(df):\n",
    "    describe_df = df.describe()\n",
    "\n",
    "    # Calculating median and standard deviation\n",
    "    median = df.median(numeric_only=True)\n",
    "    std_dev = df.std(numeric_only=True)\n",
    "\n",
    "    # Appendind median and standard deviation to describe_df\n",
    "    describe_df.loc['median'] = median\n",
    "    describe_df.loc['std'] = std_dev\n",
    "\n",
    "    # Removing 25%, 50%, and 75% statistics\n",
    "    describe_df = describe_df.drop(['25%', '50%', '75%'])\n",
    "\n",
    "    # Reordering the rows\n",
    "    describe_df = describe_df.loc[['count', 'mean', 'median', 'std', 'min', 'max']]\n",
    "\n",
    "    # Styling\n",
    "    styled_summary = (describe_df.style\n",
    "                      .format(\"{:.2f}\")  # Format numbers to 2 decimal places\n",
    "                      .background_gradient(cmap='coolwarm')  # Add color gradient\n",
    "                      .set_table_styles([{'selector': 'thead th', 'props': [('background-color', '#404040'), ('color', 'white')]}])  # Style headers\n",
    "                      )\n",
    "\n",
    "    display(styled_summary)\n",
    "    return "
   ]
  },
  {
   "cell_type": "code",
   "execution_count": 7,
   "id": "a2f55fb9-8d05-4a48-aa80-5f8f8aed35e6",
   "metadata": {},
   "outputs": [
    {
     "name": "stdout",
     "output_type": "stream",
     "text": [
      "Patient 1\n"
     ]
    },
    {
     "data": {
      "text/html": [
       "<style type=\"text/css\">\n",
       "#T_88879 thead th {\n",
       "  background-color: #404040;\n",
       "  color: white;\n",
       "}\n",
       "#T_88879_row0_col0, #T_88879_row0_col1, #T_88879_row0_col2, #T_88879_row0_col3, #T_88879_row0_col4, #T_88879_row0_col5, #T_88879_row0_col6 {\n",
       "  background-color: #b40426;\n",
       "  color: #f1f1f1;\n",
       "}\n",
       "#T_88879_row1_col0, #T_88879_row1_col1, #T_88879_row1_col4, #T_88879_row1_col5, #T_88879_row1_col6, #T_88879_row2_col0, #T_88879_row2_col1, #T_88879_row2_col4, #T_88879_row2_col5, #T_88879_row2_col6, #T_88879_row3_col0, #T_88879_row3_col1, #T_88879_row3_col2, #T_88879_row3_col3, #T_88879_row3_col4, #T_88879_row3_col5, #T_88879_row3_col6, #T_88879_row4_col0, #T_88879_row4_col1, #T_88879_row4_col2, #T_88879_row4_col3, #T_88879_row4_col4, #T_88879_row4_col5, #T_88879_row4_col6, #T_88879_row5_col0, #T_88879_row5_col6 {\n",
       "  background-color: #3b4cc0;\n",
       "  color: #f1f1f1;\n",
       "}\n",
       "#T_88879_row1_col2, #T_88879_row1_col3, #T_88879_row2_col2, #T_88879_row2_col3, #T_88879_row5_col1, #T_88879_row5_col2, #T_88879_row5_col3, #T_88879_row5_col4, #T_88879_row5_col5 {\n",
       "  background-color: #3c4ec2;\n",
       "  color: #f1f1f1;\n",
       "}\n",
       "</style>\n",
       "<table id=\"T_88879\">\n",
       "  <thead>\n",
       "    <tr>\n",
       "      <th class=\"blank level0\" >&nbsp;</th>\n",
       "      <th id=\"T_88879_level0_col0\" class=\"col_heading level0 col0\" >RESP</th>\n",
       "      <th id=\"T_88879_level0_col1\" class=\"col_heading level0 col1\" >BP-S</th>\n",
       "      <th id=\"T_88879_level0_col2\" class=\"col_heading level0 col2\" >BP-D</th>\n",
       "      <th id=\"T_88879_level0_col3\" class=\"col_heading level0 col3\" >SpO2</th>\n",
       "      <th id=\"T_88879_level0_col4\" class=\"col_heading level0 col4\" >HR</th>\n",
       "      <th id=\"T_88879_level0_col5\" class=\"col_heading level0 col5\" >PULSE</th>\n",
       "      <th id=\"T_88879_level0_col6\" class=\"col_heading level0 col6\" >Anomaly</th>\n",
       "    </tr>\n",
       "  </thead>\n",
       "  <tbody>\n",
       "    <tr>\n",
       "      <th id=\"T_88879_level0_row0\" class=\"row_heading level0 row0\" >count</th>\n",
       "      <td id=\"T_88879_row0_col0\" class=\"data row0 col0\" >24999.00</td>\n",
       "      <td id=\"T_88879_row0_col1\" class=\"data row0 col1\" >24999.00</td>\n",
       "      <td id=\"T_88879_row0_col2\" class=\"data row0 col2\" >24999.00</td>\n",
       "      <td id=\"T_88879_row0_col3\" class=\"data row0 col3\" >24999.00</td>\n",
       "      <td id=\"T_88879_row0_col4\" class=\"data row0 col4\" >24999.00</td>\n",
       "      <td id=\"T_88879_row0_col5\" class=\"data row0 col5\" >24999.00</td>\n",
       "      <td id=\"T_88879_row0_col6\" class=\"data row0 col6\" >24999.00</td>\n",
       "    </tr>\n",
       "    <tr>\n",
       "      <th id=\"T_88879_level0_row1\" class=\"row_heading level0 row1\" >mean</th>\n",
       "      <td id=\"T_88879_row1_col0\" class=\"data row1 col0\" >23.76</td>\n",
       "      <td id=\"T_88879_row1_col1\" class=\"data row1 col1\" >83.89</td>\n",
       "      <td id=\"T_88879_row1_col2\" class=\"data row1 col2\" >121.41</td>\n",
       "      <td id=\"T_88879_row1_col3\" class=\"data row1 col3\" >99.04</td>\n",
       "      <td id=\"T_88879_row1_col4\" class=\"data row1 col4\" >88.56</td>\n",
       "      <td id=\"T_88879_row1_col5\" class=\"data row1 col5\" >87.98</td>\n",
       "      <td id=\"T_88879_row1_col6\" class=\"data row1 col6\" >0.07</td>\n",
       "    </tr>\n",
       "    <tr>\n",
       "      <th id=\"T_88879_level0_row2\" class=\"row_heading level0 row2\" >median</th>\n",
       "      <td id=\"T_88879_row2_col0\" class=\"data row2 col0\" >23.00</td>\n",
       "      <td id=\"T_88879_row2_col1\" class=\"data row2 col1\" >83.00</td>\n",
       "      <td id=\"T_88879_row2_col2\" class=\"data row2 col2\" >121.00</td>\n",
       "      <td id=\"T_88879_row2_col3\" class=\"data row2 col3\" >99.00</td>\n",
       "      <td id=\"T_88879_row2_col4\" class=\"data row2 col4\" >88.00</td>\n",
       "      <td id=\"T_88879_row2_col5\" class=\"data row2 col5\" >88.00</td>\n",
       "      <td id=\"T_88879_row2_col6\" class=\"data row2 col6\" >0.00</td>\n",
       "    </tr>\n",
       "    <tr>\n",
       "      <th id=\"T_88879_level0_row3\" class=\"row_heading level0 row3\" >std</th>\n",
       "      <td id=\"T_88879_row3_col0\" class=\"data row3 col0\" >4.49</td>\n",
       "      <td id=\"T_88879_row3_col1\" class=\"data row3 col1\" >4.75</td>\n",
       "      <td id=\"T_88879_row3_col2\" class=\"data row3 col2\" >8.97</td>\n",
       "      <td id=\"T_88879_row3_col3\" class=\"data row3 col3\" >1.30</td>\n",
       "      <td id=\"T_88879_row3_col4\" class=\"data row3 col4\" >9.59</td>\n",
       "      <td id=\"T_88879_row3_col5\" class=\"data row3 col5\" >9.22</td>\n",
       "      <td id=\"T_88879_row3_col6\" class=\"data row3 col6\" >0.25</td>\n",
       "    </tr>\n",
       "    <tr>\n",
       "      <th id=\"T_88879_level0_row4\" class=\"row_heading level0 row4\" >min</th>\n",
       "      <td id=\"T_88879_row4_col0\" class=\"data row4 col0\" >0.00</td>\n",
       "      <td id=\"T_88879_row4_col1\" class=\"data row4 col1\" >66.00</td>\n",
       "      <td id=\"T_88879_row4_col2\" class=\"data row4 col2\" >88.00</td>\n",
       "      <td id=\"T_88879_row4_col3\" class=\"data row4 col3\" >0.00</td>\n",
       "      <td id=\"T_88879_row4_col4\" class=\"data row4 col4\" >0.00</td>\n",
       "      <td id=\"T_88879_row4_col5\" class=\"data row4 col5\" >0.00</td>\n",
       "      <td id=\"T_88879_row4_col6\" class=\"data row4 col6\" >0.00</td>\n",
       "    </tr>\n",
       "    <tr>\n",
       "      <th id=\"T_88879_level0_row5\" class=\"row_heading level0 row5\" >max</th>\n",
       "      <td id=\"T_88879_row5_col0\" class=\"data row5 col0\" >42.00</td>\n",
       "      <td id=\"T_88879_row5_col1\" class=\"data row5 col1\" >127.00</td>\n",
       "      <td id=\"T_88879_row5_col2\" class=\"data row5 col2\" >170.00</td>\n",
       "      <td id=\"T_88879_row5_col3\" class=\"data row5 col3\" >100.00</td>\n",
       "      <td id=\"T_88879_row5_col4\" class=\"data row5 col4\" >120.00</td>\n",
       "      <td id=\"T_88879_row5_col5\" class=\"data row5 col5\" >119.00</td>\n",
       "      <td id=\"T_88879_row5_col6\" class=\"data row5 col6\" >1.00</td>\n",
       "    </tr>\n",
       "  </tbody>\n",
       "</table>\n"
      ],
      "text/plain": [
       "<pandas.io.formats.style.Styler at 0x13546a470>"
      ]
     },
     "metadata": {},
     "output_type": "display_data"
    },
    {
     "name": "stdout",
     "output_type": "stream",
     "text": [
      "Patient 2\n"
     ]
    },
    {
     "data": {
      "text/html": [
       "<style type=\"text/css\">\n",
       "#T_30f9e thead th {\n",
       "  background-color: #404040;\n",
       "  color: white;\n",
       "}\n",
       "#T_30f9e_row0_col0, #T_30f9e_row0_col1, #T_30f9e_row0_col2, #T_30f9e_row0_col3, #T_30f9e_row0_col4, #T_30f9e_row0_col5, #T_30f9e_row0_col6 {\n",
       "  background-color: #b40426;\n",
       "  color: #f1f1f1;\n",
       "}\n",
       "#T_30f9e_row1_col0, #T_30f9e_row1_col1, #T_30f9e_row1_col2, #T_30f9e_row1_col3, #T_30f9e_row1_col4, #T_30f9e_row1_col5, #T_30f9e_row1_col6, #T_30f9e_row2_col0, #T_30f9e_row2_col1, #T_30f9e_row2_col2, #T_30f9e_row2_col3, #T_30f9e_row2_col4, #T_30f9e_row2_col5, #T_30f9e_row2_col6, #T_30f9e_row3_col0, #T_30f9e_row3_col1, #T_30f9e_row3_col2, #T_30f9e_row3_col3, #T_30f9e_row3_col4, #T_30f9e_row3_col5, #T_30f9e_row3_col6, #T_30f9e_row4_col0, #T_30f9e_row4_col1, #T_30f9e_row4_col2, #T_30f9e_row4_col3, #T_30f9e_row4_col4, #T_30f9e_row4_col5, #T_30f9e_row4_col6, #T_30f9e_row5_col0, #T_30f9e_row5_col3, #T_30f9e_row5_col6 {\n",
       "  background-color: #3b4cc0;\n",
       "  color: #f1f1f1;\n",
       "}\n",
       "#T_30f9e_row5_col1, #T_30f9e_row5_col2 {\n",
       "  background-color: #3d50c3;\n",
       "  color: #f1f1f1;\n",
       "}\n",
       "#T_30f9e_row5_col4, #T_30f9e_row5_col5 {\n",
       "  background-color: #3c4ec2;\n",
       "  color: #f1f1f1;\n",
       "}\n",
       "</style>\n",
       "<table id=\"T_30f9e\">\n",
       "  <thead>\n",
       "    <tr>\n",
       "      <th class=\"blank level0\" >&nbsp;</th>\n",
       "      <th id=\"T_30f9e_level0_col0\" class=\"col_heading level0 col0\" >RESP</th>\n",
       "      <th id=\"T_30f9e_level0_col1\" class=\"col_heading level0 col1\" >BP-S</th>\n",
       "      <th id=\"T_30f9e_level0_col2\" class=\"col_heading level0 col2\" >BP-D</th>\n",
       "      <th id=\"T_30f9e_level0_col3\" class=\"col_heading level0 col3\" >SpO2</th>\n",
       "      <th id=\"T_30f9e_level0_col4\" class=\"col_heading level0 col4\" >HR</th>\n",
       "      <th id=\"T_30f9e_level0_col5\" class=\"col_heading level0 col5\" >PULSE</th>\n",
       "      <th id=\"T_30f9e_level0_col6\" class=\"col_heading level0 col6\" >Anomaly</th>\n",
       "    </tr>\n",
       "  </thead>\n",
       "  <tbody>\n",
       "    <tr>\n",
       "      <th id=\"T_30f9e_level0_row0\" class=\"row_heading level0 row0\" >count</th>\n",
       "      <td id=\"T_30f9e_row0_col0\" class=\"data row0 col0\" >25000.00</td>\n",
       "      <td id=\"T_30f9e_row0_col1\" class=\"data row0 col1\" >25000.00</td>\n",
       "      <td id=\"T_30f9e_row0_col2\" class=\"data row0 col2\" >25000.00</td>\n",
       "      <td id=\"T_30f9e_row0_col3\" class=\"data row0 col3\" >25000.00</td>\n",
       "      <td id=\"T_30f9e_row0_col4\" class=\"data row0 col4\" >25000.00</td>\n",
       "      <td id=\"T_30f9e_row0_col5\" class=\"data row0 col5\" >25000.00</td>\n",
       "      <td id=\"T_30f9e_row0_col6\" class=\"data row0 col6\" >25000.00</td>\n",
       "    </tr>\n",
       "    <tr>\n",
       "      <th id=\"T_30f9e_level0_row1\" class=\"row_heading level0 row1\" >mean</th>\n",
       "      <td id=\"T_30f9e_row1_col0\" class=\"data row1 col0\" >17.62</td>\n",
       "      <td id=\"T_30f9e_row1_col1\" class=\"data row1 col1\" >53.97</td>\n",
       "      <td id=\"T_30f9e_row1_col2\" class=\"data row1 col2\" >73.92</td>\n",
       "      <td id=\"T_30f9e_row1_col3\" class=\"data row1 col3\" >94.53</td>\n",
       "      <td id=\"T_30f9e_row1_col4\" class=\"data row1 col4\" >77.00</td>\n",
       "      <td id=\"T_30f9e_row1_col5\" class=\"data row1 col5\" >76.18</td>\n",
       "      <td id=\"T_30f9e_row1_col6\" class=\"data row1 col6\" >0.03</td>\n",
       "    </tr>\n",
       "    <tr>\n",
       "      <th id=\"T_30f9e_level0_row2\" class=\"row_heading level0 row2\" >median</th>\n",
       "      <td id=\"T_30f9e_row2_col0\" class=\"data row2 col0\" >17.00</td>\n",
       "      <td id=\"T_30f9e_row2_col1\" class=\"data row2 col1\" >54.00</td>\n",
       "      <td id=\"T_30f9e_row2_col2\" class=\"data row2 col2\" >73.00</td>\n",
       "      <td id=\"T_30f9e_row2_col3\" class=\"data row2 col3\" >94.00</td>\n",
       "      <td id=\"T_30f9e_row2_col4\" class=\"data row2 col4\" >76.00</td>\n",
       "      <td id=\"T_30f9e_row2_col5\" class=\"data row2 col5\" >75.00</td>\n",
       "      <td id=\"T_30f9e_row2_col6\" class=\"data row2 col6\" >0.00</td>\n",
       "    </tr>\n",
       "    <tr>\n",
       "      <th id=\"T_30f9e_level0_row3\" class=\"row_heading level0 row3\" >std</th>\n",
       "      <td id=\"T_30f9e_row3_col0\" class=\"data row3 col0\" >3.56</td>\n",
       "      <td id=\"T_30f9e_row3_col1\" class=\"data row3 col1\" >7.75</td>\n",
       "      <td id=\"T_30f9e_row3_col2\" class=\"data row3 col2\" >10.04</td>\n",
       "      <td id=\"T_30f9e_row3_col3\" class=\"data row3 col3\" >2.14</td>\n",
       "      <td id=\"T_30f9e_row3_col4\" class=\"data row3 col4\" >6.61</td>\n",
       "      <td id=\"T_30f9e_row3_col5\" class=\"data row3 col5\" >5.95</td>\n",
       "      <td id=\"T_30f9e_row3_col6\" class=\"data row3 col6\" >0.17</td>\n",
       "    </tr>\n",
       "    <tr>\n",
       "      <th id=\"T_30f9e_level0_row4\" class=\"row_heading level0 row4\" >min</th>\n",
       "      <td id=\"T_30f9e_row4_col0\" class=\"data row4 col0\" >0.00</td>\n",
       "      <td id=\"T_30f9e_row4_col1\" class=\"data row4 col1\" >37.00</td>\n",
       "      <td id=\"T_30f9e_row4_col2\" class=\"data row4 col2\" >52.00</td>\n",
       "      <td id=\"T_30f9e_row4_col3\" class=\"data row4 col3\" >81.00</td>\n",
       "      <td id=\"T_30f9e_row4_col4\" class=\"data row4 col4\" >0.00</td>\n",
       "      <td id=\"T_30f9e_row4_col5\" class=\"data row4 col5\" >54.00</td>\n",
       "      <td id=\"T_30f9e_row4_col6\" class=\"data row4 col6\" >0.00</td>\n",
       "    </tr>\n",
       "    <tr>\n",
       "      <th id=\"T_30f9e_level0_row5\" class=\"row_heading level0 row5\" >max</th>\n",
       "      <td id=\"T_30f9e_row5_col0\" class=\"data row5 col0\" >42.00</td>\n",
       "      <td id=\"T_30f9e_row5_col1\" class=\"data row5 col1\" >211.00</td>\n",
       "      <td id=\"T_30f9e_row5_col2\" class=\"data row5 col2\" >217.00</td>\n",
       "      <td id=\"T_30f9e_row5_col3\" class=\"data row5 col3\" >99.00</td>\n",
       "      <td id=\"T_30f9e_row5_col4\" class=\"data row5 col4\" >131.00</td>\n",
       "      <td id=\"T_30f9e_row5_col5\" class=\"data row5 col5\" >128.00</td>\n",
       "      <td id=\"T_30f9e_row5_col6\" class=\"data row5 col6\" >1.00</td>\n",
       "    </tr>\n",
       "  </tbody>\n",
       "</table>\n"
      ],
      "text/plain": [
       "<pandas.io.formats.style.Styler at 0x13546a470>"
      ]
     },
     "metadata": {},
     "output_type": "display_data"
    }
   ],
   "source": [
    "print(\"Patient 1\")\n",
    "describe(df_p1)\n",
    "print(\"Patient 2\")\n",
    "describe(df_p2)"
   ]
  },
  {
   "cell_type": "markdown",
   "id": "16f76995",
   "metadata": {},
   "source": [
    "### Finding columns with missing values"
   ]
  },
  {
   "cell_type": "code",
   "execution_count": 18,
   "id": "b711a885",
   "metadata": {},
   "outputs": [],
   "source": [
    "def missing(df):\n",
    "    missing_values_per_column = df.isnull().sum()\n",
    "    columns_with_missing_values = missing_values_per_column[missing_values_per_column > 0]\n",
    "    print(\"Columns with missing values:\\n\", columns_with_missing_values)\n",
    "    return "
   ]
  },
  {
   "cell_type": "code",
   "execution_count": 20,
   "id": "5fb09c07-aa7c-4b01-bd55-fc31958ce903",
   "metadata": {},
   "outputs": [
    {
     "name": "stdout",
     "output_type": "stream",
     "text": [
      "Patient 1\n",
      "Columns with missing values:\n",
      " Series([], dtype: int64)\n",
      "Patient 2\n",
      "Columns with missing values:\n",
      " Series([], dtype: int64)\n"
     ]
    }
   ],
   "source": [
    "print(\"Patient 1\")\n",
    "missing(df_p1)\n",
    "print(\"Patient 2\")\n",
    "missing(df_p2)"
   ]
  },
  {
   "cell_type": "markdown",
   "id": "1ade8557",
   "metadata": {},
   "source": [
    "- There are no Missing Values in Both the DataSets"
   ]
  },
  {
   "cell_type": "markdown",
   "id": "b79569a6",
   "metadata": {},
   "source": [
    "### Checking for Duplicates in the Data Frame"
   ]
  },
  {
   "cell_type": "code",
   "execution_count": 25,
   "id": "7a6cfe6f",
   "metadata": {
    "scrolled": true
   },
   "outputs": [],
   "source": [
    "def check_dup(df):\n",
    "    duplicates = df.duplicated()\n",
    "    num_duplicates = duplicates.sum()\n",
    "\n",
    "    print(\"Number of duplicate rows:\", num_duplicates)\n",
    "    if num_duplicates > 0:\n",
    "        print(\"\\nDuplicate rows:\")\n",
    "        print(df[duplicates])\n",
    "    return\n"
   ]
  },
  {
   "cell_type": "code",
   "execution_count": 26,
   "id": "de184262-f07f-4b99-8c1e-ac2d32a6baff",
   "metadata": {},
   "outputs": [
    {
     "name": "stdout",
     "output_type": "stream",
     "text": [
      "Patient 1\n",
      "Number of duplicate rows: 9445\n",
      "\n",
      "Duplicate rows:\n",
      "       RESP  BP-S  BP-D  SpO2  HR  PULSE  Anomaly\n",
      "6        30    81   120    98  73     73        0\n",
      "7        30    81   120    98  73     73        0\n",
      "9        26    81   120    98  74     74        0\n",
      "13       31    81   120    98  74     75        0\n",
      "17       27    81   121    98  76     75        0\n",
      "...     ...   ...   ...   ...  ..    ...      ...\n",
      "24959    24    78   113   100  91     91        0\n",
      "24960    24    78   113   100  91     91        0\n",
      "24965    24    81   117   100  94     94        0\n",
      "24967    24    81   117   100  95     94        0\n",
      "24975    24    82   119   100  95     96        0\n",
      "\n",
      "[9445 rows x 7 columns]\n",
      "Patient 2\n",
      "Number of duplicate rows: 16551\n",
      "\n",
      "Duplicate rows:\n",
      "       RESP  BP-S  BP-D  SpO2  HR  PULSE  Anomaly\n",
      "1        15    54    73    97  72     71        0\n",
      "2        15    54    73    97  72     71        0\n",
      "3        15    54    73    97  72     71        0\n",
      "5        15    55    74    97  72     71        0\n",
      "7        14    54    73    97  72     71        0\n",
      "...     ...   ...   ...   ...  ..    ...      ...\n",
      "24993    19    63    86    93  88     88        0\n",
      "24994    19    63    86    93  88     88        0\n",
      "24995    19    63    86    93  88     88        0\n",
      "24998    19    64    87    93  88     88        0\n",
      "24999    19    64    87    93  88     88        0\n",
      "\n",
      "[16551 rows x 7 columns]\n"
     ]
    }
   ],
   "source": [
    "print(\"Patient 1\")\n",
    "check_dup(df_p1)\n",
    "print(\"Patient 2\")\n",
    "check_dup(df_p2)"
   ]
  },
  {
   "cell_type": "markdown",
   "id": "4194438e",
   "metadata": {},
   "source": [
    "- There are 9445 duplicate rows in Patient 1\n",
    "- There are 16551 duplicates in Patient 2"
   ]
  },
  {
   "cell_type": "markdown",
   "id": "d13a67ed-9df8-4696-88fa-b180cb8379f7",
   "metadata": {},
   "source": [
    "We are not dropping the duplicates because the duplicate values could be usefull in the following analysis"
   ]
  },
  {
   "cell_type": "markdown",
   "id": "a8ac5261-5f00-4e17-a985-165a577be0de",
   "metadata": {},
   "source": [
    "### Normalization"
   ]
  },
  {
   "cell_type": "markdown",
   "id": "e1c00a5c-b6b4-4cb4-a4a5-cdd94a99ef66",
   "metadata": {},
   "source": [
    "- Algorithms like Decision Trees, Random Forests, and Gradient Boosting are not sensitive to the scale of features. These algorithms split data based on feature values rather than calculating distances or optimizing gradients, so normalization is generally not required."
   ]
  },
  {
   "cell_type": "code",
   "execution_count": null,
   "id": "147951d4-3f70-4b9d-817f-ae7d87dd0d67",
   "metadata": {},
   "outputs": [],
   "source": []
  }
 ],
 "metadata": {
  "kernelspec": {
   "display_name": "Python 3 (ipykernel)",
   "language": "python",
   "name": "python3"
  },
  "language_info": {
   "codemirror_mode": {
    "name": "ipython",
    "version": 3
   },
   "file_extension": ".py",
   "mimetype": "text/x-python",
   "name": "python",
   "nbconvert_exporter": "python",
   "pygments_lexer": "ipython3",
   "version": "3.10.9"
  }
 },
 "nbformat": 4,
 "nbformat_minor": 5
}
